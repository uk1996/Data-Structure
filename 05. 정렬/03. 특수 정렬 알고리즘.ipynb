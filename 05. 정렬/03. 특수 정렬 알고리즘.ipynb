{
 "cells": [
  {
   "cell_type": "markdown",
   "metadata": {},
   "source": [
    "## 특수 정렬 알고리즘\n",
    "- 정렬을 하려면 모든 원소를 한번씩 보아야 한다. 즉 정렬 시간의 하한선은 Ω(n)이다.\n",
    "- 두 원소간 비교를 기본으로 하는 작업에서는 원소 비교 횟수가 최악의 경우Ω(nlogn)이라는 사실이 증명 되어있다. 이를 피하려면 '두 원소 간 비교'를 피해야 한다."
   ]
  },
  {
   "cell_type": "markdown",
   "metadata": {},
   "source": [
    "## 계수 정렬: Θ(n)\n",
    "- 정렬하고자 하는 원소들의 값이 어떠한 범위에 있는 정수인 경우에 사용할 수 있음(ex> -5~5, 0~20)"
   ]
  },
  {
   "cell_type": "code",
   "execution_count": 40,
   "metadata": {},
   "outputs": [],
   "source": [
    "def countingSort(A): # A의 모든 원소는 정수\n",
    "    min_ = min(A) # n번\n",
    "    max_ = max(A) # n번\n",
    "    counting_dict = {value:0 for value in range(min_, max_+1, 1)} # (상수 x n)번\n",
    "    for value in A: # n번 \n",
    "        counting_dict[value] += 1\n",
    "    B = []\n",
    "    for key, count in counting_dict.items(): # 이 for문 안에 총 n번\n",
    "        B += [key]*count\n",
    "    \n",
    "    for i in range(len(B)): # n 번\n",
    "        A[i] = B[i]"
   ]
  },
  {
   "cell_type": "code",
   "execution_count": 41,
   "metadata": {},
   "outputs": [
    {
     "data": {
      "text/plain": [
       "[-5, -3, -2, 0, 0, 1, 2, 2, 2, 5, 7, 7, 8, 10]"
      ]
     },
     "execution_count": 41,
     "metadata": {},
     "output_type": "execute_result"
    }
   ],
   "source": [
    "list_ = [-5,2, 10, -3, -2, 0, 1, 7, 5, 2, 0, 2, 8, 7]\n",
    "b = countingSort(list_)\n",
    "list_"
   ]
  },
  {
   "cell_type": "markdown",
   "metadata": {},
   "source": [
    "## 기수 정렬: Θ(n)\n",
    "- 원소들이 모두 상수 k개 이하의 자릿수를 가진 자연수와 같은 특수한 경우 사용할 수 있는 방법\n",
    "- 자연수가 아닌 제한된 길이를 가진 알파벳 등도 해당"
   ]
  },
  {
   "cell_type": "code",
   "execution_count": 27,
   "metadata": {},
   "outputs": [],
   "source": [
    "import math\n",
    "\n",
    "def radixSort(A):\n",
    "    maxValue = max(A)\n",
    "    numDigits = math.ceil(math.log10(maxValue)) # 자릿수 계산\n",
    "    bucket = [[] for _ in range(10)]\n",
    "    for i in range(numDigits):\n",
    "        for x in A:\n",
    "            y = (x // 10**i) % 10\n",
    "            bucket[y].append(x)\n",
    "        A.clear()\n",
    "        for j in range(10):\n",
    "            A.extend(bucket[j])\n",
    "            bucket[j].clear()"
   ]
  },
  {
   "cell_type": "code",
   "execution_count": 28,
   "metadata": {},
   "outputs": [
    {
     "data": {
      "text/plain": [
       "[4, 123, 222, 283, 1061, 1560, 2150, 2154]"
      ]
     },
     "execution_count": 28,
     "metadata": {},
     "output_type": "execute_result"
    }
   ],
   "source": [
    "list_ = [123, 2154, 222, 4, 283, 1560, 1061, 2150]\n",
    "radixSort(list_)\n",
    "list_"
   ]
  }
 ],
 "metadata": {
  "interpreter": {
   "hash": "29233f63ceb7007f9e31b9275a7a148f30bd46d56559c0e7d8312584e5c169ec"
  },
  "kernelspec": {
   "display_name": "Python 3.8.5 ('sungwook')",
   "language": "python",
   "name": "python3"
  },
  "language_info": {
   "codemirror_mode": {
    "name": "ipython",
    "version": 3
   },
   "file_extension": ".py",
   "mimetype": "text/x-python",
   "name": "python",
   "nbconvert_exporter": "python",
   "pygments_lexer": "ipython3",
   "version": "3.8.12"
  },
  "orig_nbformat": 4
 },
 "nbformat": 4,
 "nbformat_minor": 2
}
