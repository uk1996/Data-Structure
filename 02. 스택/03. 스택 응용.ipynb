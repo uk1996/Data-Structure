{
 "cells": [
  {
   "cell_type": "code",
   "execution_count": 1,
   "metadata": {},
   "outputs": [],
   "source": [
    "from reuqired_module.ListStack import ListStack"
   ]
  },
  {
   "cell_type": "markdown",
   "metadata": {},
   "source": [
    "## 문자열 뒤집기"
   ]
  },
  {
   "cell_type": "code",
   "execution_count": 2,
   "metadata": {},
   "outputs": [],
   "source": [
    "def reverse(str):\n",
    "    stack = ListStack()\n",
    "\n",
    "    for i in range(len(str)):\n",
    "        stack.push(str[i])\n",
    "    \n",
    "    out=''\n",
    "    while not stack.isEmpty():\n",
    "        out += stack.pop()\n",
    "    return out"
   ]
  },
  {
   "cell_type": "code",
   "execution_count": 3,
   "metadata": {},
   "outputs": [
    {
     "name": "stdout",
     "output_type": "stream",
     "text": [
      "Input String: Test Seq 12345\n",
      "Reversed String: 54321 qeS tseT\n"
     ]
    }
   ],
   "source": [
    "input = 'Test Seq 12345'\n",
    "answer = reverse(input)\n",
    "print(f\"Input String: {input}\")\n",
    "print(f\"Reversed String: {answer}\")"
   ]
  },
  {
   "cell_type": "markdown",
   "metadata": {},
   "source": [
    "## Postfix 계산"
   ]
  },
  {
   "cell_type": "code",
   "execution_count": 17,
   "metadata": {},
   "outputs": [],
   "source": [
    "def evaluate(p):\n",
    "    stack = ListStack()\n",
    "    digitPreviously = False\n",
    "    for i in range(len(p)):\n",
    "        ch = p [i]\n",
    "        if ch.isdigit():\n",
    "            if digitPreviously: # ch가 숫자\n",
    "                tmp = stack.pop()\n",
    "                tmp = 10*tmp + (ord(ch) - ord('0'))\n",
    "                stack.push(tmp)\n",
    "            else:\n",
    "                stack.push(ord(ch) - ord('0'))\n",
    "                digitPreviously = True\n",
    "        elif isOperator(ch): # ch가 연산자\n",
    "            stack.push(operation(stack.pop(), stack.pop(), ch))\n",
    "            digitPreviously = False\n",
    "        else: # ch가 공백\n",
    "            digitPreviously = False\n",
    "    return stack.pop()\n",
    "\n",
    "\n",
    "def isOperator(ch):\n",
    "    return ch == '+' or ch == '-' or ch == '*' or ch == '/'\n",
    "\n",
    "def operation(opr2:int, opr1:int, ch):\n",
    "    return {'+':opr1+opr2, '-':opr1-opr2, '*':opr1*opr2, '/':opr1/opr2}[ch]"
   ]
  },
  {
   "cell_type": "code",
   "execution_count": 18,
   "metadata": {},
   "outputs": [
    {
     "name": "stdout",
     "output_type": "stream",
     "text": [
      "Input string: 700 3 47 + 6 * - 4 /\n",
      "Answer: 100.0\n"
     ]
    }
   ],
   "source": [
    "postfix = '700 3 47 + 6 * - 4 /'\n",
    "print(f\"Input string: {postfix}\")\n",
    "answer = evaluate(postfix)\n",
    "print(f\"Answer: {answer}\")"
   ]
  }
 ],
 "metadata": {
  "interpreter": {
   "hash": "29233f63ceb7007f9e31b9275a7a148f30bd46d56559c0e7d8312584e5c169ec"
  },
  "kernelspec": {
   "display_name": "Python 3.8.12 ('sungwook')",
   "language": "python",
   "name": "python3"
  },
  "language_info": {
   "codemirror_mode": {
    "name": "ipython",
    "version": 3
   },
   "file_extension": ".py",
   "mimetype": "text/x-python",
   "name": "python",
   "nbconvert_exporter": "python",
   "pygments_lexer": "ipython3",
   "version": "3.8.12"
  },
  "orig_nbformat": 4
 },
 "nbformat": 4,
 "nbformat_minor": 2
}
