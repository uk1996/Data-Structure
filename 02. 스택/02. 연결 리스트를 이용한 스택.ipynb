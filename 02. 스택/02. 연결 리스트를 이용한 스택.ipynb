{
 "cells": [
  {
   "cell_type": "code",
   "execution_count": 1,
   "metadata": {},
   "outputs": [],
   "source": [
    "from reuqired_module.LinkedList import LinkedListBasic"
   ]
  },
  {
   "cell_type": "code",
   "execution_count": 2,
   "metadata": {},
   "outputs": [],
   "source": [
    "class LinkedStack:\n",
    "    def __init__(self):\n",
    "        self.__stack = LinkedListBasic()\n",
    "    \n",
    "    def push(self, x):\n",
    "        self.__stack.insert(0, x)\n",
    "    \n",
    "    def pop(self):\n",
    "        return self.__stack.pop(0)\n",
    "\n",
    "    def top(self):\n",
    "        if self.isEmpty():\n",
    "            return None\n",
    "        else:\n",
    "            return self.__stack.get(0)\n",
    "\n",
    "    def isEmpty(self):\n",
    "        return self.__stack.isEmpty()\n",
    "\n",
    "    def popAll(self):\n",
    "        self.__stack.clear()\n",
    "    \n",
    "    def printStack(self):\n",
    "        print('Stack from top:', end=' ')\n",
    "        for i in range(self.__stack.size()):\n",
    "            print(self.__stack.get(i), end=' ')\n",
    "        print()   \n"
   ]
  },
  {
   "cell_type": "code",
   "execution_count": 3,
   "metadata": {},
   "outputs": [
    {
     "name": "stdout",
     "output_type": "stream",
     "text": [
      "Top is 200\n",
      "Stack from top: Choi 100 \n",
      "is empty?: False\n"
     ]
    }
   ],
   "source": [
    "linkedstack = LinkedStack()\n",
    "linkedstack.push(100)\n",
    "linkedstack.push(200)\n",
    "print(f\"Top is {linkedstack.top()}\")\n",
    "linkedstack.pop()\n",
    "linkedstack.push('Choi')\n",
    "linkedstack.printStack()\n",
    "print(f\"is empty?: {linkedstack.isEmpty()}\")"
   ]
  }
 ],
 "metadata": {
  "interpreter": {
   "hash": "29233f63ceb7007f9e31b9275a7a148f30bd46d56559c0e7d8312584e5c169ec"
  },
  "kernelspec": {
   "display_name": "Python 3.8.12 ('sungwook')",
   "language": "python",
   "name": "python3"
  },
  "language_info": {
   "codemirror_mode": {
    "name": "ipython",
    "version": 3
   },
   "file_extension": ".py",
   "mimetype": "text/x-python",
   "name": "python",
   "nbconvert_exporter": "python",
   "pygments_lexer": "ipython3",
   "version": "3.8.12"
  },
  "orig_nbformat": 4
 },
 "nbformat": 4,
 "nbformat_minor": 2
}
