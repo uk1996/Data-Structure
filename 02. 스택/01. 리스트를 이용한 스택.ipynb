{
 "cells": [
  {
   "cell_type": "markdown",
   "metadata": {},
   "source": [
    "## 리스트 스택(List Stack)\n",
    "\n",
    "### 필드\n",
    "- __stack[] <= 스택의 원소들이 저장되는 리스트\n",
    "\n",
    "### 메서드\n",
    "- push(x) <= 스택의 맨 위에 원소 x를 삽입한다.\n",
    "- pop() <= 스택의 맨위에 있는 원소를 알려주고 삭제한다.\n",
    "- top() <= 스택의 맨위의 원소를 알려준다.\n",
    "- isEmpty() <= 스택이 비어있는지 알려준다.\n",
    "- popAll() <= 스택을 깨끗이 청소한다."
   ]
  },
  {
   "cell_type": "markdown",
   "metadata": {},
   "source": []
  }
 ],
 "metadata": {
  "language_info": {
   "name": "python"
  },
  "orig_nbformat": 4
 },
 "nbformat": 4,
 "nbformat_minor": 2
}
