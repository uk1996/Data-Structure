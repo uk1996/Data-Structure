{
 "cells": [
  {
   "cell_type": "markdown",
   "metadata": {},
   "source": [
    "## 리스트 스택(List Stack)\n",
    "\n",
    "### 필드\n",
    "- __stack[] <= 스택의 원소들이 저장되는 리스트\n",
    "\n",
    "### 메서드\n",
    "- push(x) <= 스택의 맨 위에 원소 x를 삽입한다.\n",
    "- pop() <= 스택의 맨위에 있는 원소를 알려주고 삭제한다.\n",
    "- top() <= 스택의 맨위의 원소를 알려준다.\n",
    "- isEmpty() <= 스택이 비어있는지 알려준다.\n",
    "- popAll() <= 스택을 깨끗이 청소한다."
   ]
  },
  {
   "cell_type": "code",
   "execution_count": 19,
   "metadata": {},
   "outputs": [],
   "source": [
    "class ListStack:\n",
    "    def __init__(self):\n",
    "        self.__stack = []\n",
    "    \n",
    "    def push(self, x):\n",
    "        self.__stack.append(x)\n",
    "    \n",
    "    def pop(self):\n",
    "        return self.__stack.pop()\n",
    "    \n",
    "    def top(self):\n",
    "        if self.isEmpty():\n",
    "            return None\n",
    "        else:\n",
    "            return self.__stack[-1]\n",
    "    \n",
    "    def isEmpty(self):\n",
    "        return not bool(self.__stack)\n",
    "    \n",
    "    def popAll(self):\n",
    "        self.__stack = []\n",
    "\n",
    "    def printStack(self):\n",
    "        print('Stack from top:', end=' ')\n",
    "        for i in range(len(self.__stack) - 1, -1, -1):\n",
    "            print(self.__stack[i], end=' ')\n",
    "        print()"
   ]
  },
  {
   "cell_type": "code",
   "execution_count": 20,
   "metadata": {},
   "outputs": [
    {
     "name": "stdout",
     "output_type": "stream",
     "text": [
      "Top is 200\n",
      "Stack from top: Choi 100 \n",
      "is empty?: False\n"
     ]
    }
   ],
   "source": [
    "liststack = ListStack()\n",
    "liststack.push(100)\n",
    "liststack.push(200)\n",
    "print(f\"Top is {liststack.top()}\")\n",
    "liststack.pop()\n",
    "liststack.push('Choi')\n",
    "liststack.printStack()\n",
    "print(f\"is empty?: {liststack.isEmpty()}\")"
   ]
  }
 ],
 "metadata": {
  "interpreter": {
   "hash": "29233f63ceb7007f9e31b9275a7a148f30bd46d56559c0e7d8312584e5c169ec"
  },
  "kernelspec": {
   "display_name": "Python 3.8.12 ('sungwook')",
   "language": "python",
   "name": "python3"
  },
  "language_info": {
   "codemirror_mode": {
    "name": "ipython",
    "version": 3
   },
   "file_extension": ".py",
   "mimetype": "text/x-python",
   "name": "python",
   "nbconvert_exporter": "python",
   "pygments_lexer": "ipython3",
   "version": "3.8.12"
  },
  "orig_nbformat": 4
 },
 "nbformat": 4,
 "nbformat_minor": 2
}
