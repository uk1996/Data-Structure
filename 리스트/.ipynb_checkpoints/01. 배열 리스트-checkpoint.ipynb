{
 "cells": [
  {
   "cell_type": "markdown",
   "id": "dde71fce",
   "metadata": {},
   "source": [
    "## 배열 리스트(Array List)\n",
    "- Python에서는 배열이 기본적으로 제공되지 않음\n",
    "- 배열보다 좀 더 추상적인 자려구조인 리스트가 제공\n",
    "- 리스트는 배열보다 융통성이 있고 추상 레벨이 높음\n",
    "- 배열을 엄격하게 사용해야 하는 경우는 numpy 사용 가능\n",
    "- Python의 리스트의 하부는 배열로 구성되어 있어, 배열이 갖는 단점을 상당 부분 가지고 있다."
   ]
  },
  {
   "cell_type": "markdown",
   "id": "b9a72253",
   "metadata": {},
   "source": [
    "## 리스트에서 제공하는 메서드\n",
    "- insert(i, x) <= x를 리스트의 i번 원소로 삽입한다.\n",
    "- append(x)    <= 원소 x를 리스트의 맨 뒤에 추가한다.\n",
    "- pop(i)       <= 리스트의 i번 원소를 삭제하면서 그 값을 리턴한다.\n",
    "- remove(x)    <= 리스트에서 (처음으로 나타나는) x를 삭제한다.\n",
    "- index(x)     <= 원소 x가 리스트의 몇 번 원소인지 리턴한다.\n",
    "- clear()      <= 리스트를 깨끗히 청소한다.\n",
    "- count(x)     <= 리스트에서 원소 x가 몇 번 나타나는지 리턴한다.\n",
    "- extend(a)    <= 리스트에 나열할 수 있는 객체 a를 풀어서 추가한다.\n",
    "- copy()       <= 리스트를 복사한다.\n",
    "- reverse()    <= 리스트의 순서를 역으로 뒤집는다.\n",
    "- sort()       <= 리스트의 원소들을 정렬한다."
   ]
  },
  {
   "cell_type": "code",
   "execution_count": 1,
   "id": "96359807",
   "metadata": {},
   "outputs": [
    {
     "name": "stdout",
     "output_type": "stream",
     "text": [
      "['Choi', 'Sungwook', 'Wook']\n"
     ]
    }
   ],
   "source": [
    "name_list = []\n",
    "name_list.insert(0, 'Wook')\n",
    "name_list.insert(0, 'Choi')\n",
    "name_list.insert(1, 'Sungwook')\n",
    "\n",
    "print(name_list)"
   ]
  },
  {
   "cell_type": "code",
   "execution_count": 2,
   "id": "47af0e28",
   "metadata": {},
   "outputs": [
    {
     "name": "stdout",
     "output_type": "stream",
     "text": [
      "['Choi', 'Sungwook', 'Wook', 27]\n"
     ]
    }
   ],
   "source": [
    "name_list.append(27)\n",
    "print(name_list)"
   ]
  },
  {
   "cell_type": "code",
   "execution_count": 3,
   "id": "9f264065",
   "metadata": {},
   "outputs": [
    {
     "name": "stdout",
     "output_type": "stream",
     "text": [
      "['Choi', 'Sungwook', 'Wook', 27, '부산', '서울']\n"
     ]
    }
   ],
   "source": [
    "name_list.extend(['부산', '서울'])\n",
    "print(name_list)"
   ]
  },
  {
   "cell_type": "code",
   "execution_count": 4,
   "id": "bcb7b897",
   "metadata": {},
   "outputs": [
    {
     "name": "stdout",
     "output_type": "stream",
     "text": [
      "Wook is at 2th\n"
     ]
    }
   ],
   "source": [
    "print(f\"Wook is at {name_list.index('Wook')}th\")"
   ]
  },
  {
   "cell_type": "code",
   "execution_count": 5,
   "id": "8d1507bc",
   "metadata": {},
   "outputs": [
    {
     "data": {
      "text/plain": [
       "'Choi'"
      ]
     },
     "execution_count": 5,
     "metadata": {},
     "output_type": "execute_result"
    }
   ],
   "source": [
    "name_list.pop(0)"
   ]
  },
  {
   "cell_type": "code",
   "execution_count": 6,
   "id": "d5a6cdd4",
   "metadata": {},
   "outputs": [
    {
     "data": {
      "text/plain": [
       "'서울'"
      ]
     },
     "execution_count": 6,
     "metadata": {},
     "output_type": "execute_result"
    }
   ],
   "source": [
    "name_list.pop(-1)"
   ]
  },
  {
   "cell_type": "code",
   "execution_count": 7,
   "id": "36bebd23",
   "metadata": {},
   "outputs": [
    {
     "name": "stdout",
     "output_type": "stream",
     "text": [
      "['Sungwook', 'Wook', 27, '부산']\n"
     ]
    }
   ],
   "source": [
    "print(name_list)"
   ]
  }
 ],
 "metadata": {
  "kernelspec": {
   "display_name": "Python 3 (ipykernel)",
   "language": "python",
   "name": "python3"
  },
  "language_info": {
   "codemirror_mode": {
    "name": "ipython",
    "version": 3
   },
   "file_extension": ".py",
   "mimetype": "text/x-python",
   "name": "python",
   "nbconvert_exporter": "python",
   "pygments_lexer": "ipython3",
   "version": "3.8.12"
  }
 },
 "nbformat": 4,
 "nbformat_minor": 5
}
