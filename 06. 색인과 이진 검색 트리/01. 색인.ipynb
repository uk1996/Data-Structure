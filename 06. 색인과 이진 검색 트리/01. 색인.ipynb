{
 "cells": [
  {
   "cell_type": "markdown",
   "id": "3580655f",
   "metadata": {},
   "source": [
    "## 색인(Index)\n",
    "- 레코드(Record): 개체의 모든 정보가 들어있다(ex> 사람 레코드 => 주민 번호, 이름, 집 주소...)\n",
    "- 필드(Field): 레코드의 각각의 부분을 나타내는 부분\n",
    "- 색인은 개체의 레코드를 검색하기 위한 것\n",
    "- 키(Key), 검색 키(Search Key): 다른 레코드와 중복되지 않으면서 각 레코드를 구분할 수 있는 필드를 색인으로 사용한 것\n",
    "- 키는 필드 하나로 이루어질 수도 있고, 여러 필드로 이루어질 수도 있음\n",
    "- 색인을 통해 어떤 레코드에 접근하기 위해서는 그 레코드의 '키'와 '레코드가 저장된 위치'에 관한 정보가 필요\n",
    "- 내장 색인(Internal Index): 메인 메모리에 올려놓고 쓰는 색인\n",
    "- 외장 색인(External Index): 메모리 바깥에놓고 쓰는 색인\n",
    "\n",
    "### ADT\n",
    "- 색인에 키 x를 삽입한다.\n",
    "- 색인에서 키 x를 검색한다.\n",
    "- 색인에서 키 x를 삭제한다.\n",
    "- 색인이 비어 있는지 확인한다.\n",
    "- 색인을 깨끗이 비운다."
   ]
  }
 ],
 "metadata": {
  "kernelspec": {
   "display_name": "Python 3 (ipykernel)",
   "language": "python",
   "name": "python3"
  },
  "language_info": {
   "codemirror_mode": {
    "name": "ipython",
    "version": 3
   },
   "file_extension": ".py",
   "mimetype": "text/x-python",
   "name": "python",
   "nbconvert_exporter": "python",
   "pygments_lexer": "ipython3",
   "version": "3.8.12"
  },
  "toc": {
   "base_numbering": 1,
   "nav_menu": {},
   "number_sections": true,
   "sideBar": true,
   "skip_h1_title": false,
   "title_cell": "Table of Contents",
   "title_sidebar": "Contents",
   "toc_cell": false,
   "toc_position": {},
   "toc_section_display": true,
   "toc_window_display": false
  }
 },
 "nbformat": 4,
 "nbformat_minor": 5
}
