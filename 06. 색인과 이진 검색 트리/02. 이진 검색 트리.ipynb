{
 "cells": [
  {
   "cell_type": "markdown",
   "metadata": {},
   "source": [
    "## 검색 트리\n",
    "- K진 검색 트리: 자식을 최대 K개 까지 가질 수 있는 검색 트리\n",
    "- 내장 검색 트리: 검색 트리가 메인 메모리 내에 존재하는 것\n",
    "- 외장 검색 트리: 검색 트리가 외부(주로 디스크)에 존재하는 것"
   ]
  },
  {
   "cell_type": "markdown",
   "metadata": {},
   "source": [
    "## 이진 검색 트리\n",
    "### 특성\n",
    "1. 각 노드는 키값을 하나씩 갖는다. 각 노드의 키값은 모두 다르다.\n",
    "2. 최상위 레벨에 루트 노드가 있고, 각 노드는 최대 2개의 자식 노드를 갖는다.\n",
    "3. 임의 노드의 키값은 자신의 왼쪽 아래에 있는 모든 노드의 키값보다 크고, 오른쪽 아래에 있는 모든 노드의 키값보다 작다.\n",
    "\n",
    "### 노드 객체 구조\n",
    "#### 필드\n",
    "- item: 키(key)를 저장\n",
    "- left: 왼쪽 자식\n",
    "- right: 오른쪽 자식\n",
    "\n",
    "### 이진 검색 트리 객체 구조\n",
    "#### 필드\n",
    "- __root <= 이진 검색 트리의 루트 노드\n",
    "#### 메서드\n",
    "- search(x) <= 이진 검색 트리에서 원소 x를 검색한다.\n",
    "- insert(x) <= 이진 검색 트리에 원소 x를 삽입한다.\n",
    "- delete(x) <= 이진 검색 트리에서 원소 x를 삭제한다.\n",
    "- isEmpty() <= 이진 검색 트리를 깨끗이 비운다."
   ]
  },
  {
   "cell_type": "code",
   "execution_count": 1,
   "metadata": {},
   "outputs": [],
   "source": [
    "class TreeNode:\n",
    "    def __init__(self, newItem, left, right):\n",
    "        self.item = newItem\n",
    "        self.left = left\n",
    "        self.right = right\n",
    "\n",
    "class BinarySearchTree:\n",
    "    def __init__(self):\n",
    "        self.__root = None\n",
    "\n",
    "    # 검색\n",
    "    def search(self, x) -> TreeNode:\n",
    "        return self.__searchItem(self.__root, x)\n",
    "    \n",
    "    def __searchItem(self, tNode:TreeNode, x) -> TreeNode:\n",
    "        if tNode == None:\n",
    "            return None\n",
    "        elif tNode.item == x:\n",
    "            return tNode\n",
    "        elif x < tNode.item:\n",
    "            return self.__searchItem(tNode.left, x)\n",
    "        else:\n",
    "            return self.__searchItem(tNode.right, x)\n",
    "    \n",
    "    \n",
    "    # 삽입\n",
    "    def insert(self, x):\n",
    "        self.__root = self.__insertItem(self.__root, x)\n",
    "\n",
    "    def __insertItem(self, tNode:TreeNode, x) -> TreeNode:\n",
    "        if tNode == None:\n",
    "            tNode = TreeNode(x, None, None)\n",
    "        elif x < tNode.item:\n",
    "            tNode.left = self.__insertItem(tNode.left, x)\n",
    "        else:\n",
    "            tNode.right = self.__insertItem(tNode.right, x)\n",
    "        return tNode\n",
    "\n",
    "    # 삭제\n",
    "    def delete(self, x):\n",
    "        self.__root = self.__deleteItem(self.__root, x)\n",
    "\n",
    "    def __deleteItem(self, tNode:TreeNode, x):\n",
    "        if tNode == None:\n",
    "            return None\n",
    "        elif x == tNode.item:\n",
    "            tNode = self.__deleteNode(tNode)\n",
    "        elif x < tNode.item:\n",
    "            tNode.left = self.__deleteItem(tNode.left, x)\n",
    "        else:\n",
    "            tNode.right = self.__deleteItem(tNode.right, x)\n",
    "        return tNode\n",
    "\n",
    "    def __deleteNode(self, tNode:TreeNode) -> TreeNode:\n",
    "        # Case1: r이 리프 노드인 경우(자식이 없는 경우)\n",
    "        if tNode.left == None and tNode.right==None:\n",
    "            return None\n",
    "        # Case2: r의 자식 노드가 1개인 경우\n",
    "        elif tNode.left == None:\n",
    "            return tNode.right\n",
    "        elif tNode.right == None:\n",
    "            return tNode.left\n",
    "        # Case3: r의 자식 노드가 2개인 경우\n",
    "        else:\n",
    "            rtnItem, rtnNode = self.__deleteMinItem(tNode.right)\n",
    "            tNode.item = rtnItem\n",
    "            tNode.right = rtnNode\n",
    "            return tNode\n",
    "    \n",
    "    def __deleteMinItem(self, tNode:TreeNode) -> tuple:\n",
    "        if tNode.left == None:\n",
    "            return tNode.item, tNode.right\n",
    "        else:\n",
    "            rtnItem, rtnNode = self.__deleteMinItem(tNode.left)\n",
    "            tNode.left = rtnNode\n",
    "            return rtnItem, tNode\n",
    "    \n",
    "    def isEmpty(self) -> bool:\n",
    "        return self.__root == None\n",
    "\n",
    "    def clear(self):\n",
    "        self.__root = None"
   ]
  },
  {
   "cell_type": "code",
   "execution_count": 2,
   "metadata": {},
   "outputs": [],
   "source": [
    "bst = BinarySearchTree()\n",
    "bst.insert(10)\n",
    "bst.insert(20)\n",
    "bst.insert(5)\n",
    "bst.insert(80)\n",
    "bst.insert(90)\n",
    "bst.insert(7550)\n",
    "bst.insert(30)\n",
    "bst.insert(77)\n",
    "bst.insert(15)\n",
    "bst.insert(40)\n",
    "bst.delete(7550)\n",
    "bst.delete(10)"
   ]
  },
  {
   "cell_type": "code",
   "execution_count": 10,
   "metadata": {},
   "outputs": [
    {
     "name": "stdout",
     "output_type": "stream",
     "text": [
      "Node item: 15\n",
      "Node left item: 5\n",
      "Node right item: 20\n"
     ]
    }
   ],
   "source": [
    "searchNode = bst.search(15)\n",
    "print(f\"Node item: {searchNode.item}\")\n",
    "print(f\"Node left item: {searchNode.left.item}\")\n",
    "print(f\"Node right item: {searchNode.right.item}\")"
   ]
  }
 ],
 "metadata": {
  "interpreter": {
   "hash": "29233f63ceb7007f9e31b9275a7a148f30bd46d56559c0e7d8312584e5c169ec"
  },
  "kernelspec": {
   "display_name": "Python 3.8.12 ('sungwook')",
   "language": "python",
   "name": "python3"
  },
  "language_info": {
   "codemirror_mode": {
    "name": "ipython",
    "version": 3
   },
   "file_extension": ".py",
   "mimetype": "text/x-python",
   "name": "python",
   "nbconvert_exporter": "python",
   "pygments_lexer": "ipython3",
   "version": "3.8.12"
  },
  "orig_nbformat": 4
 },
 "nbformat": 4,
 "nbformat_minor": 2
}
