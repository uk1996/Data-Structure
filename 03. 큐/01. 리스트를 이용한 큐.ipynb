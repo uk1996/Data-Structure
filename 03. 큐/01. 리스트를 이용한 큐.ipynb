{
 "cells": [
  {
   "cell_type": "markdown",
   "metadata": {},
   "source": [
    "## 리스트 큐(List Queue)\n",
    "\n",
    "### 필드\n",
    "- __queue[] <= 큐의 원소들이 저장되는 리스트\n",
    "\n",
    "### 메서드\n",
    "- enqueue(x) <= 큐의 끝에 원소 x를 삽입한다.\n",
    "- dequeue() <= 큐의 맨 앞에 있는 원소를 알려주고 삭제\n",
    "- front() <= 큐의 맨앞에 있는 원소를 알려준다.\n",
    "- isEmpty() <= 큐가 비어 있는지 알려준다.\n",
    "- dequeueAll() <= 큐를 깨끗이 청소한다."
   ]
  },
  {
   "cell_type": "code",
   "execution_count": 2,
   "metadata": {},
   "outputs": [],
   "source": [
    "class ListQueue:\n",
    "    def __init__(self):\n",
    "        self.__queue = []\n",
    "    \n",
    "    def enqueue(self, x):\n",
    "        self.__queue.append(x)\n",
    "    \n",
    "    def dequeue(self):\n",
    "        return self.__queue.pop(0)\n",
    "    \n",
    "    def front(self):\n",
    "        return self.__queue[0]\n",
    "    \n",
    "    def isEmpty(self):\n",
    "        return len(self) == 0\n",
    "    \n",
    "    def dequeueAll(self):\n",
    "        self.__queue.clear()\n",
    "    \n",
    "    def printQueue(self):\n",
    "        print('Queue from front:', end = ' ')\n",
    "        for value in self.__queue:\n",
    "            print(value, end = ' ')\n",
    "        print()"
   ]
  },
  {
   "cell_type": "code",
   "execution_count": 3,
   "metadata": {},
   "outputs": [
    {
     "name": "stdout",
     "output_type": "stream",
     "text": [
      "Queue from front: Tue 1234 Wed aaa \n"
     ]
    }
   ],
   "source": [
    "q1 = ListQueue()\n",
    "q1.enqueue('Mon')\n",
    "q1.enqueue('Tue')\n",
    "q1.enqueue(1234)\n",
    "q1.enqueue('Wed')\n",
    "q1.dequeue()\n",
    "q1.enqueue('aaa')\n",
    "q1.printQueue()"
   ]
  }
 ],
 "metadata": {
  "interpreter": {
   "hash": "29233f63ceb7007f9e31b9275a7a148f30bd46d56559c0e7d8312584e5c169ec"
  },
  "kernelspec": {
   "display_name": "Python 3.8.12 ('sungwook')",
   "language": "python",
   "name": "python3"
  },
  "language_info": {
   "codemirror_mode": {
    "name": "ipython",
    "version": 3
   },
   "file_extension": ".py",
   "mimetype": "text/x-python",
   "name": "python",
   "nbconvert_exporter": "python",
   "pygments_lexer": "ipython3",
   "version": "3.8.12"
  },
  "orig_nbformat": 4
 },
 "nbformat": 4,
 "nbformat_minor": 2
}
