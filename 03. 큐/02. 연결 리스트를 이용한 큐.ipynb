{
 "cells": [
  {
   "cell_type": "code",
   "execution_count": 11,
   "metadata": {},
   "outputs": [],
   "source": [
    "from required_module.CircularLinkedList import CircularLinkedList"
   ]
  },
  {
   "cell_type": "code",
   "execution_count": 12,
   "metadata": {},
   "outputs": [],
   "source": [
    "class LinkedQueue:\n",
    "    def __init__(self):\n",
    "        self.__queue = CircularLinkedList()\n",
    "    \n",
    "    def enqueue(self, x):\n",
    "        self.__queue.append(x)\n",
    "    \n",
    "    def dequeue(self):\n",
    "        return self.__queue.pop(0)\n",
    "    \n",
    "    def front(self):\n",
    "        return self.__queue.get(0)\n",
    "    \n",
    "    def isEmpty(self):\n",
    "        return self.__queue.isEmpty()\n",
    "\n",
    "    def dequeueAll(self):\n",
    "        self.__queue.clear()\n",
    "    \n",
    "    def printQueue(self):\n",
    "        print('Queue from front:', end = ' ')\n",
    "        for x in self.__queue:\n",
    "            print(x, end = ' ')\n",
    "        print()"
   ]
  },
  {
   "cell_type": "code",
   "execution_count": 13,
   "metadata": {},
   "outputs": [
    {
     "name": "stdout",
     "output_type": "stream",
     "text": [
      "Queue from front: Tue 1234 Wed aaa \n"
     ]
    }
   ],
   "source": [
    "q1 = LinkedQueue()\n",
    "q1.enqueue('Mon')\n",
    "q1.enqueue('Tue')\n",
    "q1.enqueue(1234)\n",
    "q1.enqueue('Wed')\n",
    "q1.dequeue()\n",
    "q1.enqueue('aaa')\n",
    "q1.printQueue()"
   ]
  }
 ],
 "metadata": {
  "interpreter": {
   "hash": "29233f63ceb7007f9e31b9275a7a148f30bd46d56559c0e7d8312584e5c169ec"
  },
  "kernelspec": {
   "display_name": "Python 3.8.12 ('sungwook')",
   "language": "python",
   "name": "python3"
  },
  "language_info": {
   "codemirror_mode": {
    "name": "ipython",
    "version": 3
   },
   "file_extension": ".py",
   "mimetype": "text/x-python",
   "name": "python",
   "nbconvert_exporter": "python",
   "pygments_lexer": "ipython3",
   "version": "3.8.12"
  },
  "orig_nbformat": 4
 },
 "nbformat": 4,
 "nbformat_minor": 2
}
