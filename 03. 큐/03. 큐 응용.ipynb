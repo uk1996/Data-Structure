{
 "cells": [
  {
   "cell_type": "markdown",
   "metadata": {},
   "source": [
    "## 좌우동형 문자열 체크\n",
    "- 좌우동형 문자열: 앞에서 읽으나 뒤에서 읽으나 같은 문자열"
   ]
  },
  {
   "cell_type": "code",
   "execution_count": 3,
   "metadata": {},
   "outputs": [],
   "source": [
    "from required_module.ListStack import ListStack\n",
    "from required_module.ListQueue import ListQueue\n",
    "\n",
    "def isPalindrome(A) -> bool:\n",
    "    stack = ListStack(); queue = ListQueue()\n",
    "    for i in range(len(A)):\n",
    "        stack.push(A[i]); queue.enqueue(A[i])\n",
    "    \n",
    "    while (not queue.isEmpty()) and (stack.pop() == queue.dequeue()):\n",
    "        pass\n",
    "    \n",
    "    if queue.isEmpty():\n",
    "        return True\n",
    "    else:\n",
    "        return False"
   ]
  },
  {
   "cell_type": "code",
   "execution_count": 6,
   "metadata": {},
   "outputs": [
    {
     "name": "stdout",
     "output_type": "stream",
     "text": [
      "Palindrome Check!\n",
      "lioninoil is Palindrome?: True\n"
     ]
    }
   ],
   "source": [
    "print('Palindrome Check!')\n",
    "string = 'lioninoil'\n",
    "print(f\"{string} is Palindrome?: {isPalindrome(string)}\")"
   ]
  },
  {
   "cell_type": "code",
   "execution_count": null,
   "metadata": {},
   "outputs": [],
   "source": []
  }
 ],
 "metadata": {
  "interpreter": {
   "hash": "29233f63ceb7007f9e31b9275a7a148f30bd46d56559c0e7d8312584e5c169ec"
  },
  "kernelspec": {
   "display_name": "Python 3.8.12 ('sungwook')",
   "language": "python",
   "name": "python3"
  },
  "language_info": {
   "codemirror_mode": {
    "name": "ipython",
    "version": 3
   },
   "file_extension": ".py",
   "mimetype": "text/x-python",
   "name": "python",
   "nbconvert_exporter": "python",
   "pygments_lexer": "ipython3",
   "version": "3.8.12"
  },
  "orig_nbformat": 4
 },
 "nbformat": 4,
 "nbformat_minor": 2
}
