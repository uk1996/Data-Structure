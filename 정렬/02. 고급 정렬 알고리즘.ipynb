{
 "cells": [
  {
   "cell_type": "markdown",
   "metadata": {},
   "source": [
    "## 병합 정렬: O(nlogn)"
   ]
  },
  {
   "cell_type": "code",
   "execution_count": 31,
   "metadata": {},
   "outputs": [],
   "source": [
    "def mergeSort(A, p, q):\n",
    "    if p < q:\n",
    "        m = (p + q)//2\n",
    "        mergeSort(A, p, m)\n",
    "        mergeSort(A, m+1, q)\n",
    "        merge(A, p, m, q)\n",
    "\n",
    "def merge(A, p, m, q):\n",
    "    i, j = p, m+1\n",
    "    tmp = []\n",
    "    while i <= m and j <= q:\n",
    "        if A[i] < A[j]:\n",
    "            tmp.append(A[i])\n",
    "            i += 1\n",
    "        else:\n",
    "            tmp.append(A[j])\n",
    "            j += 1\n",
    "    \n",
    "    while i <= m: # 좌측 리스트가 남았을 경우\n",
    "        tmp.append(A[i])\n",
    "        i += 1\n",
    "    \n",
    "    while j <= q: # 우측 리스트가 남았을 경우\n",
    "        tmp.append(A[j])\n",
    "        j += 1\n",
    "    \n",
    "    k, t = p, 0\n",
    "    while k <= q:\n",
    "        A[k] = tmp[t]\n",
    "        k += 1; t += 1"
   ]
  },
  {
   "cell_type": "code",
   "execution_count": 37,
   "metadata": {},
   "outputs": [
    {
     "data": {
      "text/plain": [
       "[3, 8, 11, 15, 20, 29, 31, 48, 65, 73]"
      ]
     },
     "execution_count": 37,
     "metadata": {},
     "output_type": "execute_result"
    }
   ],
   "source": [
    "list_ = [3, 8, 31, 65, 73, 11, 15, 20, 29, 48]\n",
    "mergeSort(list_, 0, len(list_)-1)\n",
    "list_"
   ]
  }
 ],
 "metadata": {
  "interpreter": {
   "hash": "29233f63ceb7007f9e31b9275a7a148f30bd46d56559c0e7d8312584e5c169ec"
  },
  "kernelspec": {
   "display_name": "Python 3.8.5 ('sungwook')",
   "language": "python",
   "name": "python3"
  },
  "language_info": {
   "codemirror_mode": {
    "name": "ipython",
    "version": 3
   },
   "file_extension": ".py",
   "mimetype": "text/x-python",
   "name": "python",
   "nbconvert_exporter": "python",
   "pygments_lexer": "ipython3",
   "version": "3.8.5"
  },
  "orig_nbformat": 4
 },
 "nbformat": 4,
 "nbformat_minor": 2
}
