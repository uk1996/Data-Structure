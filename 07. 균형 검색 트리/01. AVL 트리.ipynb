{
 "cells": [
  {
   "cell_type": "markdown",
   "metadata": {},
   "source": [
    "## AVL 트리\n",
    "- 트리 내의 어떤 노드도 좌서브 트리와 우서브 트리의 높이 차가 1보다 크지 않은 상태로 유지되는 이진 검색 트리\n",
    "\n",
    "### 노드 객체 구조\n",
    "- item <= 키를 저장\n",
    "- left <= 왼쪽 자식\n",
    "- right <= 오른쪽 자식\n",
    "- height <= 해당 노드를 루트로 하는 서브 트리의 높이"
   ]
  },
  {
   "cell_type": "markdown",
   "metadata": {},
   "source": [
    "## 균형이 깨진 AVL 트리 수선 유형(t: root node)\n",
    "- LL: t.left.left가 가장 깊음\n",
    "- LR: t.left.right가 가장 깊음\n",
    "- RR: t.right.right가 가장 깊음\n",
    "- RL: t.right.left가 가장 깊음"
   ]
  },
  {
   "cell_type": "code",
   "execution_count": null,
   "metadata": {},
   "outputs": [],
   "source": []
  }
 ],
 "metadata": {
  "interpreter": {
   "hash": "29233f63ceb7007f9e31b9275a7a148f30bd46d56559c0e7d8312584e5c169ec"
  },
  "kernelspec": {
   "display_name": "Python 3.8.12 ('sungwook')",
   "language": "python",
   "name": "python3"
  },
  "language_info": {
   "name": "python",
   "version": "3.8.12"
  },
  "orig_nbformat": 4
 },
 "nbformat": 4,
 "nbformat_minor": 2
}
