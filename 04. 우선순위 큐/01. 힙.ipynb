{
 "cells": [
  {
   "cell_type": "markdown",
   "metadata": {},
   "source": [
    "## 힙(Heap)\n",
    "\n",
    "1. 완전 이진 트리 구조\n",
    "2. 힘 특성: 모든 노드는 값을 갖고, 자식 노드들 값보다 크거나 같다. => 최대 힙(Max Heap)\n",
    "\n",
    "### 필드\n",
    "- __A[] <= 힙을 저장하는 리스트\n",
    "\n",
    "### 매서드\n",
    "- insert(x) <= 힙에 원소 x를 삽입한다.\n",
    "- deleteMax() <= 힙의 최대 원소를 알려주면서 삭제한다.\n",
    "- max() <= 힙의 최대 원소를 알려준다.\n",
    "- buildHeap() <= 리스트 A[]를 힙으로 만든다.\n",
    "- isEmpty() <= 힙이 비어있는지 알려준다\n",
    "- clear() <= 힙을 깨끗이 청소한다."
   ]
  },
  {
   "cell_type": "code",
   "execution_count": 2,
   "metadata": {},
   "outputs": [],
   "source": [
    "class Heap:\n",
    "    def __init__(self, list):\n",
    "        if list == None:\n",
    "            self.__A = []\n",
    "        else:\n",
    "            self.__A = list\n",
    "    \n",
    "    # 원소 삽입 비재귀적 방법\n",
    "    # def insert(self, x):\n",
    "    #     i = len(self.__A)\n",
    "    #     self.__A.append(x)\n",
    "    #     parent = (i-1)//2\n",
    "    #     while i > 0 and self.__A[i] > self.__A[parent]:\n",
    "    #         self.__A[i], self.__A[parent] = self.__A[parent], self.__A[i]\n",
    "    #         i = parent\n",
    "    #         parent = (i-1)//2\n",
    "\n",
    "    # 원소 삽입 재귀적 방법\n",
    "    def insert(self, x):\n",
    "        self.__A.append(x)\n",
    "        self.percolateUp(len(self.__A) - 1)\n",
    "\n",
    "    def percolateUp(self, i): # 스며오르기(\n",
    "        parent = (i-1)//2\n",
    "        if i > 0 and self.__A[i] > self.__A[parent]:\n",
    "            self.__A[i], self.__A[parent] = self.__A[parent], self.__A[i]\n",
    "            self.percolateUp(parent)\n",
    "    \n",
    "    # 원소 삭제 비재귀적 방법\n",
    "    def deleteMax(self):\n",
    "        max = self.__A.pop(0)\n",
    "        self.__A.insert(0, self.__A.pop())\n",
    "        self.percolateDown(0)\n",
    "        return max\n",
    "    \n",
    "    def percolateDown(self, k):\n",
    "        child = k*2 + 1 # left\n",
    "        right = k*2 + 2 # right\n",
    "         \n",
    "        if child < len(self.__A) - 1:\n",
    "            if right < len(self.__A) - 1 and self.__A[child] < self.__A[right]:\n",
    "                child = right\n",
    "            if self.__A[k] < self.__A[child]:\n",
    "                self.__A[k], self.__A[child] = self.__A[child], self.__A[k]\n",
    "                self.percolateDown(child)"
   ]
  }
 ],
 "metadata": {
  "interpreter": {
   "hash": "29233f63ceb7007f9e31b9275a7a148f30bd46d56559c0e7d8312584e5c169ec"
  },
  "kernelspec": {
   "display_name": "Python 3.8.12 ('sungwook')",
   "language": "python",
   "name": "python3"
  },
  "language_info": {
   "codemirror_mode": {
    "name": "ipython",
    "version": 3
   },
   "file_extension": ".py",
   "mimetype": "text/x-python",
   "name": "python",
   "nbconvert_exporter": "python",
   "pygments_lexer": "ipython3",
   "version": "3.8.5"
  },
  "orig_nbformat": 4
 },
 "nbformat": 4,
 "nbformat_minor": 2
}
